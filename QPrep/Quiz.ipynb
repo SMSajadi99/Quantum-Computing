{
 "cells": [
  {
   "cell_type": "code",
   "execution_count": 1,
   "id": "initial_id",
   "metadata": {
    "collapsed": true,
    "ExecuteTime": {
     "end_time": "2024-02-19T16:09:32.636028900Z",
     "start_time": "2024-02-19T16:09:32.617324100Z"
    }
   },
   "outputs": [
    {
     "data": {
      "text/plain": "14.0"
     },
     "execution_count": 1,
     "metadata": {},
     "output_type": "execute_result"
    }
   ],
   "source": [
    "y = (5**2-1+9/2)//2\n",
    "y"
   ]
  },
  {
   "cell_type": "code",
   "outputs": [
    {
     "name": "stdout",
     "output_type": "stream",
     "text": [
      "-8.0\n"
     ]
    }
   ],
   "source": [
    "a=10\n",
    "b=20/a\n",
    "b=b-a\n",
    "print(b)"
   ],
   "metadata": {
    "collapsed": false,
    "ExecuteTime": {
     "end_time": "2024-02-19T16:10:51.991030800Z",
     "start_time": "2024-02-19T16:10:51.987096300Z"
    }
   },
   "id": "11898d91e84f608d",
   "execution_count": 2
  },
  {
   "cell_type": "code",
   "outputs": [
    {
     "name": "stdout",
     "output_type": "stream",
     "text": [
      "64.0\n"
     ]
    }
   ],
   "source": [
    "a=10\n",
    "b=20/a\n",
    "b=b-a\n",
    "print(b**2)"
   ],
   "metadata": {
    "collapsed": false,
    "ExecuteTime": {
     "end_time": "2024-02-19T16:11:07.097200700Z",
     "start_time": "2024-02-19T16:11:07.085646200Z"
    }
   },
   "id": "62a203d7a75acd08",
   "execution_count": 3
  },
  {
   "cell_type": "code",
   "outputs": [
    {
     "name": "stdout",
     "output_type": "stream",
     "text": [
      "40\n"
     ]
    }
   ],
   "source": [
    "x=10\n",
    "for i in range(10,20,2):\n",
    "    x=x+i\n",
    "print(x//2)"
   ],
   "metadata": {
    "collapsed": false,
    "ExecuteTime": {
     "end_time": "2024-02-19T16:11:24.455790500Z",
     "start_time": "2024-02-19T16:11:24.451761200Z"
    }
   },
   "id": "9e297e8b59219bbe",
   "execution_count": 4
  },
  {
   "cell_type": "code",
   "outputs": [
    {
     "name": "stdout",
     "output_type": "stream",
     "text": [
      "4.67\n"
     ]
    }
   ],
   "source": [
    "x=3\n",
    "for i in range(3):\n",
    "    y=i/x\n",
    "    if y < 0.5:\n",
    "        z=i\n",
    "decimal_num = x+y+z\n",
    "rounded_num = \"{:.2f}\".format(decimal_num)\n",
    "print(rounded_num)"
   ],
   "metadata": {
    "collapsed": false,
    "ExecuteTime": {
     "end_time": "2024-02-19T16:13:21.448402300Z",
     "start_time": "2024-02-19T16:13:21.444037300Z"
    }
   },
   "id": "5aa5204b6778dcc4",
   "execution_count": 6
  },
  {
   "cell_type": "code",
   "outputs": [
    {
     "data": {
      "text/plain": "1"
     },
     "execution_count": 7,
     "metadata": {},
     "output_type": "execute_result"
    }
   ],
   "source": [
    "y=True+False-True*False\n",
    "y"
   ],
   "metadata": {
    "collapsed": false,
    "ExecuteTime": {
     "end_time": "2024-02-19T16:13:42.852908600Z",
     "start_time": "2024-02-19T16:13:42.846395600Z"
    }
   },
   "id": "2cfc438830c97d00",
   "execution_count": 7
  },
  {
   "cell_type": "code",
   "outputs": [
    {
     "data": {
      "text/plain": "[1, 2, 3, 4, 5, 6, 7, 8]"
     },
     "execution_count": 8,
     "metadata": {},
     "output_type": "execute_result"
    }
   ],
   "source": [
    "l1 = [1,2,3,4]\n",
    "l2 = [5,6,7,8]\n",
    "y = l1 + l2\n",
    "y"
   ],
   "metadata": {
    "collapsed": false,
    "ExecuteTime": {
     "end_time": "2024-02-19T16:14:03.166161900Z",
     "start_time": "2024-02-19T16:14:03.158988300Z"
    }
   },
   "id": "dd3fd8b64aa1ee02",
   "execution_count": 8
  },
  {
   "cell_type": "code",
   "outputs": [
    {
     "name": "stdout",
     "output_type": "stream",
     "text": [
      "29.82\n"
     ]
    }
   ],
   "source": [
    "import numpy as np\n",
    "\n",
    "# Define the vector\n",
    "v = np.array([1,3,5,7,9,12,24,2])\n",
    "\n",
    "# Calculate the length of the vector\n",
    "length = np.linalg.norm(v)\n",
    "\n",
    "# Print the length rounded to 2 decimal places\n",
    "print(round(length, 2))\n"
   ],
   "metadata": {
    "collapsed": false,
    "ExecuteTime": {
     "end_time": "2024-02-19T17:13:01.219384500Z",
     "start_time": "2024-02-19T17:13:01.215007500Z"
    }
   },
   "id": "d701a2a55c7f5de2",
   "execution_count": 53
  },
  {
   "cell_type": "code",
   "outputs": [
    {
     "name": "stdout",
     "output_type": "stream",
     "text": [
      "70\n"
     ]
    }
   ],
   "source": [
    "import numpy as np\n",
    "\n",
    "v=[1,2,3,4]\n",
    "u=[5,6,7,8]\n",
    "print(np.dot(v,u))"
   ],
   "metadata": {
    "collapsed": false,
    "ExecuteTime": {
     "end_time": "2024-02-19T16:24:04.258892Z",
     "start_time": "2024-02-19T16:24:04.153127Z"
    }
   },
   "id": "dc775cf7d5ac1223",
   "execution_count": 14
  },
  {
   "cell_type": "code",
   "outputs": [
    {
     "name": "stdout",
     "output_type": "stream",
     "text": [
      "0\n"
     ]
    }
   ],
   "source": [
    "import numpy as np\n",
    "\n",
    "v = [1,2,3]\n",
    "u=[-3,6,-3]\n",
    "print(np.dot(v,u))"
   ],
   "metadata": {
    "collapsed": false,
    "ExecuteTime": {
     "end_time": "2024-02-19T16:25:19.992364400Z",
     "start_time": "2024-02-19T16:25:19.986846Z"
    }
   },
   "id": "a891e9808bdc3b7f",
   "execution_count": 15
  },
  {
   "cell_type": "code",
   "outputs": [
    {
     "name": "stdout",
     "output_type": "stream",
     "text": [
      "3\n"
     ]
    }
   ],
   "source": [
    "import numpy as np\n",
    "\n",
    "# Define the vector\n",
    "u = np.array([1,2,2,1])\n",
    "\n",
    "# Calculate u1 = uT.u\n",
    "u1 = np.dot(u.T, u)\n",
    "\n",
    "# Calculate v = u1.uT\n",
    "v = u1 * u.T\n",
    "\n",
    "# Calculate v1 = v / 10\n",
    "v1 = v / 10\n",
    "\n",
    "# Calculate the length of the vector v1\n",
    "length = np.linalg.norm(v1)\n",
    "\n",
    "# Print the length rounded to the nearest integer\n",
    "print(round(length))\n"
   ],
   "metadata": {
    "collapsed": false,
    "ExecuteTime": {
     "end_time": "2024-02-19T17:50:11.723790700Z",
     "start_time": "2024-02-19T17:50:11.719781800Z"
    }
   },
   "id": "dcc7f98d91db12f5",
   "execution_count": 55
  },
  {
   "cell_type": "code",
   "outputs": [
    {
     "name": "stdout",
     "output_type": "stream",
     "text": [
      "54\n"
     ]
    }
   ],
   "source": [
    "import numpy as np\n",
    "\n",
    "# Define the matrix\n",
    "m = np.array([[1, 2], [3, 4]])\n",
    "\n",
    "# Perform matrix multiplication\n",
    "result = np.dot(m, m)\n",
    "\n",
    "# Sum all elements of the resulting matrix\n",
    "sum_elements = np.sum(result)\n",
    "\n",
    "print(sum_elements)"
   ],
   "metadata": {
    "collapsed": false,
    "ExecuteTime": {
     "end_time": "2024-02-19T16:37:15.495305300Z",
     "start_time": "2024-02-19T16:37:15.490967400Z"
    }
   },
   "id": "8fc7e50ef7c456b1",
   "execution_count": 22
  },
  {
   "cell_type": "code",
   "outputs": [
    {
     "name": "stdout",
     "output_type": "stream",
     "text": [
      "100\n"
     ]
    }
   ],
   "source": [
    "import numpy as np\n",
    "\n",
    "# Define the matrix\n",
    "m = np.array([[1, 2], [3, 4]])\n",
    "\n",
    "# Perform Kronecker product\n",
    "result = np.kron(m, m)\n",
    "\n",
    "# Sum all elements of the resulting matrix\n",
    "sum_elements = np.sum(result)\n",
    "\n",
    "print(sum_elements)"
   ],
   "metadata": {
    "collapsed": false,
    "ExecuteTime": {
     "end_time": "2024-02-19T16:39:43.833053800Z",
     "start_time": "2024-02-19T16:39:43.809766900Z"
    }
   },
   "id": "ead5a9ad61cbfbaf",
   "execution_count": 23
  },
  {
   "cell_type": "code",
   "outputs": [
    {
     "name": "stdout",
     "output_type": "stream",
     "text": [
      "1\n"
     ]
    }
   ],
   "source": [
    "import numpy as np\n",
    "\n",
    "# Define the matrix\n",
    "m = np.array([[1, 2], [3, 4]])\n",
    "\n",
    "# Perform Kronecker product\n",
    "M = np.kron(m, np.kron(np.kron(m, m), m))\n",
    "\n",
    "# Sum all elements of the resulting matrix\n",
    "s = np.sum(M)\n",
    "\n",
    "# Calculate y\n",
    "y = s * 25 % 3\n",
    "\n",
    "print(y)"
   ],
   "metadata": {
    "collapsed": false,
    "ExecuteTime": {
     "end_time": "2024-02-19T16:41:46.774482100Z",
     "start_time": "2024-02-19T16:41:46.771965700Z"
    }
   },
   "id": "df17a26e9e1d6680",
   "execution_count": 24
  },
  {
   "cell_type": "code",
   "outputs": [
    {
     "name": "stdout",
     "output_type": "stream",
     "text": [
      "6\n"
     ]
    }
   ],
   "source": [
    "import numpy as np\n",
    "\n",
    "# Define the matrices\n",
    "M1 = np.array([[1, -1], [-1, 1]])\n",
    "M2 = np.array([[1, 2], [3, 4]])\n",
    "\n",
    "# Perform matrix multiplication\n",
    "result = np.dot(M1, M2)\n",
    "\n",
    "# Extract the [2,2] element\n",
    "x = result[1, 1]\n",
    "\n",
    "# Calculate y\n",
    "y = -((x**6/8-6*6+6%6)*2)\n",
    "\n",
    "# Convert y to string to extract the second digit\n",
    "y_str = str(int(abs(y)))\n",
    "\n",
    "# Check if y has at least two digits\n",
    "if len(y_str) >= 2:\n",
    "    second_digit = y_str[1]\n",
    "else:\n",
    "    second_digit = \"Y does not have a second digit\"\n",
    "\n",
    "print(second_digit)"
   ],
   "metadata": {
    "collapsed": false,
    "ExecuteTime": {
     "end_time": "2024-02-19T16:48:46.438895700Z",
     "start_time": "2024-02-19T16:48:46.435827800Z"
    }
   },
   "id": "ec98571d1ec596ea",
   "execution_count": 30
  },
  {
   "cell_type": "code",
   "outputs": [
    {
     "name": "stdout",
     "output_type": "stream",
     "text": [
      "300\n"
     ]
    }
   ],
   "source": [
    "import numpy as np\n",
    "\n",
    "# Define the matrices\n",
    "M = np.array([[1, 2], [3, 4]])\n",
    "MT = M.T\n",
    "\n",
    "result1 = np.dot(MT,M)\n",
    "result2 = np.dot(M,result1)\n",
    "\n",
    "s = np.sum(result2)\n",
    "\n",
    "print(s)"
   ],
   "metadata": {
    "collapsed": false,
    "ExecuteTime": {
     "end_time": "2024-02-19T17:04:03.722046600Z",
     "start_time": "2024-02-19T17:04:03.716360500Z"
    }
   },
   "id": "b93fa634ba1f63a2",
   "execution_count": 43
  },
  {
   "cell_type": "code",
   "outputs": [
    {
     "data": {
      "text/plain": "27"
     },
     "execution_count": 45,
     "metadata": {},
     "output_type": "execute_result"
    }
   ],
   "source": [
    "l=[1,2,3,4,5]\n",
    "\n",
    "l[-1:-4:-1][::-1][-3]**3"
   ],
   "metadata": {
    "collapsed": false,
    "ExecuteTime": {
     "end_time": "2024-02-19T17:05:30.371255600Z",
     "start_time": "2024-02-19T17:05:30.366800600Z"
    }
   },
   "id": "a019d6ba0a2ccb5f",
   "execution_count": 45
  },
  {
   "cell_type": "code",
   "outputs": [
    {
     "name": "stdout",
     "output_type": "stream",
     "text": [
      "12\n"
     ]
    }
   ],
   "source": [
    "l=[3,5,1,6,0]\n",
    "x=l[2]\n",
    "y=l[-2]\n",
    "z=len(l)\n",
    "print(x+y+z)"
   ],
   "metadata": {
    "collapsed": false,
    "ExecuteTime": {
     "end_time": "2024-02-19T17:07:02.619866500Z",
     "start_time": "2024-02-19T17:07:02.616496300Z"
    }
   },
   "id": "e8f742a81ee1312c",
   "execution_count": 50
  },
  {
   "cell_type": "code",
   "outputs": [
    {
     "ename": "TypeError",
     "evalue": "can't multiply sequence by non-int of type 'list'",
     "output_type": "error",
     "traceback": [
      "\u001B[1;31m---------------------------------------------------------------------------\u001B[0m",
      "\u001B[1;31mTypeError\u001B[0m                                 Traceback (most recent call last)",
      "Cell \u001B[1;32mIn[51], line 3\u001B[0m\n\u001B[0;32m      1\u001B[0m l1 \u001B[38;5;241m=\u001B[39m [\u001B[38;5;241m1\u001B[39m,\u001B[38;5;241m2\u001B[39m,\u001B[38;5;241m3\u001B[39m,\u001B[38;5;241m4\u001B[39m]\n\u001B[0;32m      2\u001B[0m l2 \u001B[38;5;241m=\u001B[39m [\u001B[38;5;241m5\u001B[39m,\u001B[38;5;241m6\u001B[39m,\u001B[38;5;241m7\u001B[39m,\u001B[38;5;241m8\u001B[39m]\n\u001B[1;32m----> 3\u001B[0m y \u001B[38;5;241m=\u001B[39m \u001B[43ml1\u001B[49m\u001B[43m \u001B[49m\u001B[38;5;241;43m*\u001B[39;49m\u001B[43m \u001B[49m\u001B[43ml2\u001B[49m\n\u001B[0;32m      4\u001B[0m y\n",
      "\u001B[1;31mTypeError\u001B[0m: can't multiply sequence by non-int of type 'list'"
     ]
    }
   ],
   "source": [
    "l1 = [1,2,3,4]\n",
    "l2 = [5,6,7,8]\n",
    "y = l1 * l2\n",
    "y"
   ],
   "metadata": {
    "collapsed": false,
    "ExecuteTime": {
     "end_time": "2024-02-19T17:07:23.579819Z",
     "start_time": "2024-02-19T17:07:23.567185300Z"
    }
   },
   "id": "2ee0b86a2e743805",
   "execution_count": 51
  },
  {
   "cell_type": "code",
   "outputs": [
    {
     "ename": "TypeError",
     "evalue": "'tuple' object does not support item assignment",
     "output_type": "error",
     "traceback": [
      "\u001B[1;31m---------------------------------------------------------------------------\u001B[0m",
      "\u001B[1;31mTypeError\u001B[0m                                 Traceback (most recent call last)",
      "Cell \u001B[1;32mIn[52], line 4\u001B[0m\n\u001B[0;32m      2\u001B[0m l\u001B[38;5;241m=\u001B[39m [\u001B[38;5;241m1\u001B[39m,\u001B[38;5;241m2\u001B[39m,\u001B[38;5;241m3\u001B[39m]\n\u001B[0;32m      3\u001B[0m l[\u001B[38;5;241m2\u001B[39m] \u001B[38;5;241m=\u001B[39m t[\u001B[38;5;241m1\u001B[39m]\n\u001B[1;32m----> 4\u001B[0m \u001B[43mt\u001B[49m\u001B[43m[\u001B[49m\u001B[38;5;241;43m1\u001B[39;49m\u001B[43m]\u001B[49m \u001B[38;5;241m=\u001B[39m l[\u001B[38;5;241m2\u001B[39m]\n\u001B[0;32m      5\u001B[0m \u001B[38;5;28mprint\u001B[39m(t)\n",
      "\u001B[1;31mTypeError\u001B[0m: 'tuple' object does not support item assignment"
     ]
    }
   ],
   "source": [
    "t = (1,2,3)\n",
    "l= [1,2,3]\n",
    "l[2] = t[1]\n",
    "t[1] = l[2]\n",
    "print(t)"
   ],
   "metadata": {
    "collapsed": false,
    "ExecuteTime": {
     "end_time": "2024-02-19T17:08:42.188605600Z",
     "start_time": "2024-02-19T17:08:42.174559300Z"
    }
   },
   "id": "acaf7391362feb3a",
   "execution_count": 52
  }
 ],
 "metadata": {
  "kernelspec": {
   "display_name": "Python 3",
   "language": "python",
   "name": "python3"
  },
  "language_info": {
   "codemirror_mode": {
    "name": "ipython",
    "version": 2
   },
   "file_extension": ".py",
   "mimetype": "text/x-python",
   "name": "python",
   "nbconvert_exporter": "python",
   "pygments_lexer": "ipython2",
   "version": "2.7.6"
  }
 },
 "nbformat": 4,
 "nbformat_minor": 5
}
