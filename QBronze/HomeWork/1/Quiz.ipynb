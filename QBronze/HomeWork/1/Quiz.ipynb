{
 "cells": [
  {
   "cell_type": "markdown",
   "source": [
    "To find the probability of transitioning from state 2 to state 3 in the given probabilistic system with the transition matrix A, you can look at the element in the second row and the third column of matrix A (A[2, 3]).\n",
    "\n",
    "In this case:\n",
    "\\[ A = \\begin{bmatrix} 0.1 & 0.2 & 0.3 & 0.4 \\\\ 0.9 & 0 & 0 & 0 \\\\ 0 & 0.8 & 0 & 0 \\\\ 0 & 0 & 0.7 & 0.6 \\end{bmatrix} \\]\n",
    "\n",
    "So, the probability of transitioning from state 2 to state 3 is given by A[2, 3], which is 0.8. Therefore, the probability is 0.8."
   ],
   "metadata": {
    "collapsed": false
   },
   "id": "366a1a66902f4118"
  },
  {
   "cell_type": "markdown",
   "source": [
    "The given vectors (0.2, 0.8) and (0.9, 0.1) represent the probabilities of the respective probabilistic bits being in state 0 and state 1. \n",
    "\n",
    "Let's denote the first vector as \\( \\text{Prob\\_Bit\\_1} = (0.2, 0.8) \\) and the second vector as \\( \\text{Prob\\_Bit\\_2} = (0.9, 0.1) \\).\n",
    "\n",
    "The probability of observing state 10 (i.e., the first bit being in state 1 and the second bit being in state 0) is the product of the probabilities for each bit in its respective state:\n",
    "\n",
    "\\[ P(\\text{Observing } 10) = P(\\text{Bit\\_1 in state 1}) \\times P(\\text{Bit\\_2 in state 0}) \\]\n",
    "\n",
    "\\[ = \\text{Prob\\_Bit\\_1[1]} \\times \\text{Prob\\_Bit\\_2[0]} \\]\n",
    "\n",
    "\\[ = 0.8 \\times 0.9 \\]\n",
    "\n",
    "\\[ = 0.72 \\]\n",
    "\n",
    "Therefore, the probability of observing state 10 is 0.72 or 72%."
   ],
   "metadata": {
    "collapsed": false
   },
   "id": "d022e34bfdea6da6"
  },
  {
   "cell_type": "markdown",
   "source": [
    "To calculate the probability of rainy weather on Wednesday, given that it is sunny on Monday, we need to consider the transition probabilities for two consecutive days.\n",
    "\n",
    "Let's denote the weather states as follows:\n",
    "- State 0: Sunny\n",
    "- State 1: Rainy\n",
    "\n",
    "The given probabilistic operator is represented as a matrix:\n",
    "\n",
    "```\n",
    "P = | 0.2  0.4 |\n",
    "    | 0.8  0.6 |\n",
    "```\n",
    "\n",
    "The initial state on Monday is sunny (State 0).\n",
    "\n",
    "To find the probability of rainy weather on Wednesday (two days later), we need to calculate the product of the transition probabilities for two days:\n",
    "\n",
    "\\[ P_{\\text{Wednesday}} = P_{\\text{Monday to Tuesday}} \\times P_{\\text{Tuesday to Wednesday}} \\]\n",
    "\n",
    "Since it is sunny on Monday (State 0), the initial probability vector is \\([1, 0]\\).\n",
    "\n",
    "\\[ P_{\\text{Monday to Tuesday}} = [0.2, 0.8] \\]\n",
    "\\[ P_{\\text{Tuesday to Wednesday}} = [0.2, 0.8] \\]\n",
    "\n",
    "Now, calculate the product:\n",
    "\n",
    "\\[ P_{\\text{Wednesday}} = P_{\\text{Monday to Tuesday}} \\times P_{\\text{Tuesday to Wednesday}} \\]\n",
    "\\[ P_{\\text{Wednesday}} = [0.2 \\times 0.2 + 0.8 \\times 0.8, 0.2 \\times 0.8 + 0.8 \\times 0.6] \\]\n",
    "\n",
    "Calculate the values:\n",
    "\n",
    "\\[ P_{\\text{Wednesday}} = [0.04 + 0.64, 0.16 + 0.48] \\]\n",
    "\\[ P_{\\text{Wednesday}} = [0.68, 0.64] \\]\n",
    "\n",
    "So, the probability of rainy weather on Wednesday, given that it is sunny on Monday, is 0.64."
   ],
   "metadata": {
    "collapsed": false
   },
   "id": "989693a99fc66fa9"
  }
 ],
 "metadata": {
  "kernelspec": {
   "display_name": "Python 3",
   "language": "python",
   "name": "python3"
  },
  "language_info": {
   "codemirror_mode": {
    "name": "ipython",
    "version": 2
   },
   "file_extension": ".py",
   "mimetype": "text/x-python",
   "name": "python",
   "nbconvert_exporter": "python",
   "pygments_lexer": "ipython2",
   "version": "2.7.6"
  }
 },
 "nbformat": 4,
 "nbformat_minor": 5
}
